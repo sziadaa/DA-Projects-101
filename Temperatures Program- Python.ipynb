{
 "cells": [
  {
   "cell_type": "markdown",
   "metadata": {},
   "source": [
    "1) Write a  Python program to convert temperatures to and from Celsius and Fahrenheit (C = (5/9) * (F - 32)), you should ask the user if he want to convert any other temperature of exit. -- (4°C × 9/5) + 32 = 39.2°F ---- (32°F − 32) × 5/9 = °C"
   ]
  },
  {
   "cell_type": "code",
   "execution_count": 35,
   "metadata": {},
   "outputs": [
    {
     "name": "stdout",
     "output_type": "stream",
     "text": [
      "20.0 °F is equal to -6.666666666666667 °C\n"
     ]
    }
   ],
   "source": [
    "Dgree=float(input('Enter NUM '))\n",
    "temperatures=str(input('Enter celsius or fahrenheit '))\n",
    "fahrenheit=(Dgree * 9/5) + 32\n",
    "celsius=(Dgree - 32) * 5/9\n",
    "\n",
    "cont ='Y'\n",
    "\n",
    "while cont == 'Y':\n",
    "    if temperatures == 'celsius':\n",
    "        print(Dgree,'°C', 'is equal to',fahrenheit,'°F')\n",
    "\n",
    "    elif temperatures == 'fahrenheit':\n",
    "        print(Dgree,'°F', 'is equal to',celsius,'°C')\n",
    "\n",
    "    else:\n",
    "        print('Error')\n",
    "    cont=input('Enter Y to cont or any Key to press out')"
   ]
  },
  {
   "cell_type": "markdown",
   "metadata": {},
   "source": [
    "2) Create Person_Inbody Class, with 5 attributes [name - gender - Age- Weight - Hight] , the class should have 3 actions 1) Print Person Info, 2) Calculate Optimal weight for the person based on Hight and how many Kg should lose, 3) Check if the  person weight (below Avg -within average - above avg) based on weight/Age/gender\n",
    "\n",
    "## Feel free to put assumption for weight average"
   ]
  },
  {
   "cell_type": "code",
   "execution_count": 48,
   "metadata": {},
   "outputs": [],
   "source": [
    "class Person_Inbody:\n",
    "    fname='Ahmed'\n",
    "    gender='m'\n",
    "    gender='f'\n",
    "    age=22\n",
    "    weight=65\n",
    "    height=180\n",
    "\n",
    "    def __init__(self,n,g,a,w,h):\n",
    "        self.fname=n\n",
    "        self.gender=g\n",
    "        self.age=a\n",
    "        self.weight=w\n",
    "        self.height=h\n",
    "\n",
    "    \n",
    "    def optimal_weight(self):\n",
    "        min_weight = 18.5 * (self.height ** 2)  \n",
    "        max_weight = 24.9 * (self.height ** 2)  \n",
    "        \n",
    "        print(f\"Optimal weight range: {min_weight:.2f} kg to {max_weight:.2f} kg\")\n",
    "\n",
    "        if self.weight > max_weight:\n",
    "            weight_to_lose = self.weight - max_weight\n",
    "            print(f\"You should lose approximately {weight_to_lose:.2f} kg to reach the optimal weight.\")\n",
    "        elif self.weight < min_weight:\n",
    "            weight_to_gain = min_weight - self.weight\n",
    "            print(f\"You should gain approximately {weight_to_gain:.2f} kg to reach the optimal weight.\")\n",
    "        else:\n",
    "            print(\"Your weight is within the optimal range.\")\n",
    "    \n",
    "\n",
    "    def weight_(self):\n",
    "        if   81 <= self.weight <=95 and self.gender == 'm' and 170 <= self.height <=180 :\n",
    "            print ('above avg')\n",
    "        elif 60 <= self.weight <=70 and self.gender == 'm' and 160 <= self.height <=170:\n",
    "            print ('within average')\n",
    "        elif  81 <= self.weight <=95 and self.gender == 'f' and 170 <= self.height <=180:\n",
    "            print ('within average')\n",
    "        elif  60 <= self.weight <=70 and self.gender == 'f' and 160 <= self.height <=170:\n",
    "            print ('within average')\n",
    "        else:\n",
    "            print('below Avg')\n",
    "\n",
    "    def print_info(self):\n",
    "        print(\"Client Name \", self.fname)\n",
    "        print(\"Gender \", self.gender)\n",
    "        print(\"age \", self.age)\n",
    "        print(\"weight \", self.weight)\n",
    "        print(\"hight \", self.height)\n",
    "\n",
    "        "
   ]
  },
  {
   "cell_type": "code",
   "execution_count": 51,
   "metadata": {},
   "outputs": [],
   "source": [
    "Ahmed=Person_Inbody(\"Ahmed\", \"M\", 23,75,180)\n"
   ]
  },
  {
   "cell_type": "code",
   "execution_count": 52,
   "metadata": {},
   "outputs": [
    {
     "name": "stdout",
     "output_type": "stream",
     "text": [
      "below Avg\n"
     ]
    }
   ],
   "source": [
    "Ahmed.weight=75\n",
    "Ahmed.weight_()"
   ]
  }
 ],
 "metadata": {
  "kernelspec": {
   "display_name": "Python 3",
   "language": "python",
   "name": "python3"
  },
  "language_info": {
   "codemirror_mode": {
    "name": "ipython",
    "version": 3
   },
   "file_extension": ".py",
   "mimetype": "text/x-python",
   "name": "python",
   "nbconvert_exporter": "python",
   "pygments_lexer": "ipython3",
   "version": "3.12.5"
  }
 },
 "nbformat": 4,
 "nbformat_minor": 2
}
